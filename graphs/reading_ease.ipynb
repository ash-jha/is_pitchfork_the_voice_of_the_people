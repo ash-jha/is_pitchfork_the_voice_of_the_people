{
 "cells": [
  {
   "cell_type": "code",
   "execution_count": 1,
   "metadata": {},
   "outputs": [],
   "source": [
    "import pandas as pd\n",
    "import numpy as np"
   ]
  },
  {
   "cell_type": "code",
   "execution_count": 2,
   "metadata": {},
   "outputs": [
    {
     "data": {
      "text/plain": [
       "array(['grid', 'png', 'scales', 'ggplot2', 'tools', 'stats', 'graphics',\n",
       "       'grDevices', 'utils', 'datasets', 'methods', 'base'], dtype='<U9')"
      ]
     },
     "execution_count": 2,
     "metadata": {},
     "output_type": "execute_result"
    }
   ],
   "source": [
    "# this only needs to be run once\n",
    "%load_ext rpy2.ipython\n",
    "\n",
    "%R library(ggplot2)\n",
    "%R library(scales)\n",
    "%R library(png)\n",
    "%R library(grid)"
   ]
  },
  {
   "cell_type": "code",
   "execution_count": 3,
   "metadata": {},
   "outputs": [
    {
     "data": {
      "text/html": [
       "<div>\n",
       "<style scoped>\n",
       "    .dataframe tbody tr th:only-of-type {\n",
       "        vertical-align: middle;\n",
       "    }\n",
       "\n",
       "    .dataframe tbody tr th {\n",
       "        vertical-align: top;\n",
       "    }\n",
       "\n",
       "    .dataframe thead th {\n",
       "        text-align: right;\n",
       "    }\n",
       "</style>\n",
       "<table border=\"1\" class=\"dataframe\">\n",
       "  <thead>\n",
       "    <tr style=\"text-align: right;\">\n",
       "      <th></th>\n",
       "      <th>source</th>\n",
       "      <th>score</th>\n",
       "      <th>highlight</th>\n",
       "    </tr>\n",
       "  </thead>\n",
       "  <tbody>\n",
       "    <tr>\n",
       "      <td>0</td>\n",
       "      <td>Reader's Digest</td>\n",
       "      <td>65</td>\n",
       "      <td>no</td>\n",
       "    </tr>\n",
       "    <tr>\n",
       "      <td>1</td>\n",
       "      <td>Time Magazine</td>\n",
       "      <td>52</td>\n",
       "      <td>no</td>\n",
       "    </tr>\n",
       "    <tr>\n",
       "      <td>2</td>\n",
       "      <td>Pitchfork</td>\n",
       "      <td>38</td>\n",
       "      <td>p4k</td>\n",
       "    </tr>\n",
       "    <tr>\n",
       "      <td>3</td>\n",
       "      <td>Harvard Law Review</td>\n",
       "      <td>32</td>\n",
       "      <td>no</td>\n",
       "    </tr>\n",
       "    <tr>\n",
       "      <td>4</td>\n",
       "      <td>Buzzfeed</td>\n",
       "      <td>92</td>\n",
       "      <td>no</td>\n",
       "    </tr>\n",
       "    <tr>\n",
       "      <td>5</td>\n",
       "      <td>The Economist</td>\n",
       "      <td>42</td>\n",
       "      <td>no</td>\n",
       "    </tr>\n",
       "    <tr>\n",
       "      <td>6</td>\n",
       "      <td>Youtube comments</td>\n",
       "      <td>95</td>\n",
       "      <td>yt</td>\n",
       "    </tr>\n",
       "    <tr>\n",
       "      <td>7</td>\n",
       "      <td>The New Yorker</td>\n",
       "      <td>48</td>\n",
       "      <td>no</td>\n",
       "    </tr>\n",
       "  </tbody>\n",
       "</table>\n",
       "</div>"
      ],
      "text/plain": [
       "               source  score highlight\n",
       "0     Reader's Digest     65        no\n",
       "1       Time Magazine     52        no\n",
       "2           Pitchfork     38       p4k\n",
       "3  Harvard Law Review     32        no\n",
       "4            Buzzfeed     92        no\n",
       "5       The Economist     42        no\n",
       "6    Youtube comments     95        yt\n",
       "7      The New Yorker     48        no"
      ]
     },
     "execution_count": 3,
     "metadata": {},
     "output_type": "execute_result"
    }
   ],
   "source": [
    "df_r = pd.DataFrame({'source':['Reader\\'s Digest', \n",
    "                                         'Time Magazine', \n",
    "                                         'Pitchfork', \n",
    "                                         'Harvard Law Review',\n",
    "                                         'Buzzfeed',\n",
    "                                         'The Economist',\n",
    "                              'Youtube comments',\n",
    "                               'The New Yorker'],\n",
    "                               'score':[65, 52, int(38.4), 32, 92, 42, 95, 48]})\n",
    "df_r.loc[df_r['source']!='Pitchfork','highlight'] = 'no'\n",
    "df_r.loc[df_r['source']=='Pitchfork','highlight'] = 'p4k'\n",
    "df_r.loc[df_r['source']=='Youtube comments','highlight'] = 'yt'\n",
    "df_r"
   ]
  },
  {
   "cell_type": "code",
   "execution_count": 4,
   "metadata": {},
   "outputs": [],
   "source": [
    "%R -i df_r"
   ]
  },
  {
   "cell_type": "code",
   "execution_count": 90,
   "metadata": {},
   "outputs": [
    {
     "data": {
      "image/png": "[encoded data removed]"
     },
     "metadata": {},
     "output_type": "display_data"
    }
   ],
   "source": [
    "%%R\n",
    "\n",
    "img_yt <- readPNG(\"../images/youtube.png\")\n",
    "img_p4k <- readPNG(\"../images/pitchfork.png\")\n",
    "g_yt <- rasterGrob(img_yt, interpolate=TRUE)\n",
    "g_p4k <- rasterGrob(img_p4k, interpolate=TRUE)\n",
    "\n",
    "bar <- (ggplot()\n",
    "+ geom_bar(aes(x=reorder(source,score),y=score, fill=highlight), data=df_r, stat='identity')\n",
    "+ scale_fill_manual(values = c('grey70','dodgerblue','red2'))\n",
    "+ coord_flip()\n",
    "+ scale_y_continuous(limits = c(0, 140), breaks = seq(0, 100, by = 25))\n",
    "+ annotation_custom(g_yt, xmin=7.5, xmax=8.5, ymin=110, ymax=140)\n",
    "+ annotation_custom(g_p4k, xmin=1.5, xmax=2.5, ymin=52, ymax=85)\n",
    "+ annotate('text', x=8, y=101, label=df_r[df_r$source=='Youtube comments',][2], size=5, fontface='bold')\n",
    "+ annotate('text', x=7, y=98, label=df_r[df_r$source=='Buzzfeed',][2], size=5, fontface='bold')\n",
    "+ annotate('text', x=6, y=71, label=df_r[df_r$source=='Reader\\'s Digest',][2], size=5, fontface='bold')\n",
    "+ annotate('text', x=5, y=58, label=df_r[df_r$source=='Time Magazine',][2], size=5, fontface='bold')\n",
    "+ annotate('text', x=4, y=54, label=df_r[df_r$source=='The New Yorker',][2], size=5, fontface='bold')\n",
    "+ annotate('text', x=3, y=48, label=df_r[df_r$source=='The Economist',][2], size=5, fontface='bold')\n",
    "+ annotate('text', x=2, y=44.4, label=df_r[df_r$source=='Pitchfork',][2], size=5, fontface='bold')\n",
    "+ annotate('text', x=1, y=38, label=df_r[df_r$source=='Harvard Law Review',][2], size=5, fontface='bold')\n",
    "+ labs(x='\\n',\n",
    "       y='\\nReading Ease Score')\n",
    "+ theme(panel.background=element_blank(),\n",
    "        axis.ticks.x=element_blank(),\n",
    "        axis.text.x=element_blank(),\n",
    "        legend.position = \"none\"))\n",
    "print(bar)"
   ]
  },
  {
   "cell_type": "code",
   "execution_count": 92,
   "metadata": {},
   "outputs": [
    {
     "name": "stderr",
     "output_type": "stream",
     "text": [
      "R[write to console]: Saving 7.5 x 6.5 in image\n",
      "\n"
     ]
    }
   ],
   "source": [
    "%R ggsave(bar,file='reading_ease.png', device=png(width=7.5, height=6.5, units=\"in\", res=300))"
   ]
  },
  {
   "cell_type": "markdown",
   "metadata": {},
   "source": [
    "Sources:\n",
    "\n",
    "- https://en.wikipedia.org/wiki/Flesch%E2%80%93Kincaid_readability_tests#Flesch_reading_ease\n",
    "- https://contently.com/2015/01/28/this-surprising-reading-level-analysis-will-change-the-way-you-write/"
   ]
  }
 ],
 "metadata": {
  "kernelspec": {
   "display_name": "Python 3",
   "language": "python",
   "name": "python3"
  },
  "language_info": {
   "codemirror_mode": {
    "name": "ipython",
    "version": 3
   },
   "file_extension": ".py",
   "mimetype": "text/x-python",
   "name": "python",
   "nbconvert_exporter": "python",
   "pygments_lexer": "ipython3",
   "version": "3.7.3"
  }
 },
 "nbformat": 4,
 "nbformat_minor": 2
}

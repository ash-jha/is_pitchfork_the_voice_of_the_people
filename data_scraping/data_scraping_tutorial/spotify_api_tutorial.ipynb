{
 "cells": [
  {
   "cell_type": "markdown",
   "metadata": {},
   "source": [
    "## Spotify data tutorial"
   ]
  },
  {
   "cell_type": "markdown",
   "metadata": {},
   "source": [
    "This tutorial covers getting the:\n",
    "* Spotify Album ID, for a given album name and artist name\n",
    "* Name of tracks for a given spotify album id\n",
    "* Total play count for a given album based on aggregating the play counts of all tracks in the album\n",
    "\n",
    "Code snippets below are used as starting point for the data fetching scripts"
   ]
  },
  {
   "cell_type": "markdown",
   "metadata": {},
   "source": [
    "### Getting the spotify album id and track names by searching for a given album on the spotify WebAPI"
   ]
  },
  {
   "cell_type": "markdown",
   "metadata": {},
   "source": [
    "Do `pip install spotipy` before running"
   ]
  },
  {
   "cell_type": "code",
   "execution_count": 4,
   "metadata": {},
   "outputs": [],
   "source": [
    "import spotipy\n",
    "from spotipy.oauth2 import SpotifyClientCredentials"
   ]
  },
  {
   "cell_type": "markdown",
   "metadata": {},
   "source": [
    "Load credentials"
   ]
  },
  {
   "cell_type": "code",
   "execution_count": 7,
   "metadata": {},
   "outputs": [],
   "source": [
    "with open('/home/sean-cx1/Documents/cert/spotify.csv') as fhandle:\n",
    "    secrets = fhandle.read().strip()\n",
    "    \n",
    "cred = secrets.split(', ')"
   ]
  },
  {
   "cell_type": "code",
   "execution_count": 10,
   "metadata": {},
   "outputs": [],
   "source": [
    "client_credentials_manager = SpotifyClientCredentials(client_id=cred[0],client_secret=cred[1])\n",
    "sp = spotipy.Spotify(client_credentials_manager=client_credentials_manager)"
   ]
  },
  {
   "cell_type": "markdown",
   "metadata": {},
   "source": [
    "Demo of searching for an album and parsing the first 10 results, we'll take a look at the `name` of the album, the `artists`, and the `uri` (identifier needed to fetch album info)"
   ]
  },
  {
   "cell_type": "code",
   "execution_count": 12,
   "metadata": {},
   "outputs": [],
   "source": [
    "album_search_results = sp.search(q='Mezzanine',type='album',limit=10)"
   ]
  },
  {
   "cell_type": "code",
   "execution_count": 91,
   "metadata": {},
   "outputs": [
    {
     "name": "stdout",
     "output_type": "stream",
     "text": [
      "Album:Mezzanine, Artist:Massive Attack), URI:spotify:album:49MNmJhZQewjt06rpwp6QR\n",
      "Album:Mezzanine (Deluxe), Artist:Massive Attack), URI:spotify:album:0NDZWNHJ5ySx3YeFLbsdMe\n",
      "Album:Mezzanine, Artist:ØDYSSEE), URI:spotify:album:6VBPczhNlGRrsypcHtblQi\n",
      "Album:Mezzanine, Artist:Gareth Emery), URI:spotify:album:0mQOqsMLZvjypKtTizC5ap\n",
      "Album:Mezzanine - The Remixes, Artist:Massive Attack), URI:spotify:album:0pyQQJWDE3113nVXk0Xmrr\n",
      "Album:Mezzanine, Artist:Mezzanine), URI:spotify:album:4N7QbPq5hg7Ht7dgiEoBLM\n",
      "Album:Calling Card / Mezzanine, Artist:The Galleria Jessy Lanza), URI:spotify:album:2jb5dXKiGmZ9yQJNEnkMOm\n",
      "Album:Thought of Man, Artist:Secret Mezzanine), URI:spotify:album:3ATVdJf18otF7wstxmrE5C\n",
      "Album:Ash to Ash, Artist:Secret Mezzanine), URI:spotify:album:3HIs2aqrKHpiZumNpefmm7\n",
      "Album:Mezzanine, Artist:Adelyn Rose), URI:spotify:album:4Q8SJNc5nwVv3rpDwqa8vV\n"
     ]
    }
   ],
   "source": [
    "for result in album_search_results['albums']['items']:\n",
    "    album_name = result['name']\n",
    "    album_uri = result['uri']\n",
    "    all_artists= ' '.join([people['name'] for people in result['artists']])\n",
    "    album_artist = all_artists.strip()\n",
    "    \n",
    "    print(f'Album:{album_name}, Artist:{album_artist}), URI:{album_uri}')"
   ]
  },
  {
   "cell_type": "markdown",
   "metadata": {},
   "source": [
    "### Demo of getting information about an album from a given URI, in this case we are using the URI for the album Mezzanine by Massive Attack"
   ]
  },
  {
   "cell_type": "code",
   "execution_count": 31,
   "metadata": {},
   "outputs": [],
   "source": [
    "example_uri = 'spotify:album:49MNmJhZQewjt06rpwp6QR'\n",
    "# The album id is the random characters in the third part of the uri\n",
    "album_id = example_uri.split(':')[2]"
   ]
  },
  {
   "cell_type": "code",
   "execution_count": 88,
   "metadata": {},
   "outputs": [
    {
     "name": "stdout",
     "output_type": "stream",
     "text": [
      "Angel\n",
      "Risingson\n",
      "Teardrop\n",
      "Inertia Creeps\n",
      "Exchange\n",
      "Dissolved Girl\n",
      "Man Next Door\n",
      "Black Milk\n",
      "Mezzanine\n",
      "Group Four\n",
      "(Exchange)\n"
     ]
    }
   ],
   "source": [
    "tracks = sp.album_tracks(album_id)\n",
    "\n",
    "for track in tracks['items']:\n",
    "    print(track['name'])"
   ]
  },
  {
   "cell_type": "markdown",
   "metadata": {},
   "source": [
    "#### List of information available:"
   ]
  },
  {
   "cell_type": "code",
   "execution_count": 89,
   "metadata": {},
   "outputs": [
    {
     "data": {
      "text/plain": [
       "dict_keys(['artists', 'available_markets', 'disc_number', 'duration_ms', 'explicit', 'external_urls', 'href', 'id', 'is_local', 'name', 'preview_url', 'track_number', 'type', 'uri'])"
      ]
     },
     "execution_count": 89,
     "metadata": {},
     "output_type": "execute_result"
    }
   ],
   "source": [
    "tracks['items'][0].keys()"
   ]
  },
  {
   "cell_type": "markdown",
   "metadata": {},
   "source": [
    "### Getting the total play count of an album for a given spotify album id"
   ]
  },
  {
   "cell_type": "markdown",
   "metadata": {},
   "source": [
    "Stream play count using: https://github.com/evilarceus/Spotify-PlayCount found from https://github.com/spotify/web-api/issues/70 "
   ]
  },
  {
   "cell_type": "code",
   "execution_count": 67,
   "metadata": {},
   "outputs": [],
   "source": [
    "import requests\n",
    "import json"
   ]
  },
  {
   "cell_type": "code",
   "execution_count": 81,
   "metadata": {},
   "outputs": [],
   "source": [
    "def count_api_url(album_id):\n",
    "    return 'https://t4ils.dev:4433/api/beta/albumPlayCount?albumid='+album_id"
   ]
  },
  {
   "cell_type": "code",
   "execution_count": 64,
   "metadata": {},
   "outputs": [],
   "source": [
    "play_count = requests.get(count_api_url(album_id)).text"
   ]
  },
  {
   "cell_type": "markdown",
   "metadata": {},
   "source": [
    "The api returns a json blob, we need to parse it"
   ]
  },
  {
   "cell_type": "code",
   "execution_count": 76,
   "metadata": {},
   "outputs": [],
   "source": [
    "play_count = json.loads(play_count_json)"
   ]
  },
  {
   "cell_type": "code",
   "execution_count": 80,
   "metadata": {},
   "outputs": [
    {
     "name": "stdout",
     "output_type": "stream",
     "text": [
      "{'name': 'Angel', 'playcount': 43601502, 'disc': 1, 'number': 1, 'uri': 'spotify:track:7uv632EkfwYhXoqf8rhYrg'}\n",
      "{'name': 'Risingson', 'playcount': 8870572, 'disc': 1, 'number': 2, 'uri': 'spotify:track:6ggJ6MceyHGWtUg1KLp3M1'}\n",
      "{'name': 'Teardrop', 'playcount': 119866059, 'disc': 1, 'number': 3, 'uri': 'spotify:track:67Hna13dNDkZvBpTXRIaOJ'}\n",
      "{'name': 'Inertia Creeps', 'playcount': 13217617, 'disc': 1, 'number': 4, 'uri': 'spotify:track:3N2UhXZI4Gf64Ku3cCjz2g'}\n",
      "{'name': 'Exchange', 'playcount': 5569836, 'disc': 1, 'number': 5, 'uri': 'spotify:track:2HuMQkNVpFIsur2cRWWQmX'}\n",
      "{'name': 'Dissolved Girl', 'playcount': 9339362, 'disc': 1, 'number': 6, 'uri': 'spotify:track:0oeEqyEAavgPfFxDYvjAP6'}\n",
      "{'name': 'Man Next Door', 'playcount': 6404737, 'disc': 1, 'number': 7, 'uri': 'spotify:track:2Tz5THgkMOQeaW6DlqAlIa'}\n",
      "{'name': 'Black Milk', 'playcount': 13248873, 'disc': 1, 'number': 8, 'uri': 'spotify:track:1Rezzt36ybaT2ZbDZpv83D'}\n",
      "{'name': 'Mezzanine', 'playcount': 4494553, 'disc': 1, 'number': 9, 'uri': 'spotify:track:4IfHYniNBoAATWV6iLEXRs'}\n",
      "{'name': 'Group Four', 'playcount': 3547520, 'disc': 1, 'number': 10, 'uri': 'spotify:track:0pWrU4My52DJ75GnZKDlv8'}\n",
      "{'name': '(Exchange)', 'playcount': 2639748, 'disc': 1, 'number': 11, 'uri': 'spotify:track:2A5Cl0fxSJDGs7SC3fryhR'}\n"
     ]
    }
   ],
   "source": [
    "for track in play_count['data']:\n",
    "    print(track)"
   ]
  },
  {
   "cell_type": "markdown",
   "metadata": {},
   "source": [
    "To get the total play count for this album, we just sum up all the play count for all tracks."
   ]
  },
  {
   "cell_type": "code",
   "execution_count": 84,
   "metadata": {},
   "outputs": [],
   "source": [
    "album_agg_count = 0  \n",
    "for track in play_count['data']:\n",
    "    album_agg_count += track['playcount']"
   ]
  },
  {
   "cell_type": "code",
   "execution_count": 85,
   "metadata": {},
   "outputs": [
    {
     "name": "stdout",
     "output_type": "stream",
     "text": [
      "230800379\n"
     ]
    }
   ],
   "source": [
    "print(album_agg_count)"
   ]
  }
 ],
 "metadata": {
  "kernelspec": {
   "display_name": "Python 3",
   "language": "python",
   "name": "python3"
  },
  "language_info": {
   "codemirror_mode": {
    "name": "ipython",
    "version": 3
   },
   "file_extension": ".py",
   "mimetype": "text/x-python",
   "name": "python",
   "nbconvert_exporter": "python",
   "pygments_lexer": "ipython3",
   "version": "3.7.4"
  }
 },
 "nbformat": 4,
 "nbformat_minor": 4
}

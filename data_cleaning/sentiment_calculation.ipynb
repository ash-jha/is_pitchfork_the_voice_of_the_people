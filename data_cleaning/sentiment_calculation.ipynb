{
 "cells": [
  {
   "cell_type": "code",
   "execution_count": 7,
   "metadata": {},
   "outputs": [],
   "source": [
    "from vaderSentiment.vaderSentiment import SentimentIntensityAnalyzer"
   ]
  },
  {
   "cell_type": "code",
   "execution_count": 8,
   "metadata": {},
   "outputs": [],
   "source": [
    "import pandas as pd\n",
    "import numpy as np\n",
    "import rpy2"
   ]
  },
  {
   "cell_type": "code",
   "execution_count": 9,
   "metadata": {},
   "outputs": [],
   "source": [
    "import pandas as pd\n",
    "import sqlite3\n",
    "conn = sqlite3.connect('/home/sean-cx1/Downloads/pitchfork.sqlite')"
   ]
  },
  {
   "cell_type": "code",
   "execution_count": 10,
   "metadata": {},
   "outputs": [],
   "source": [
    "%load_ext rpy2.ipython"
   ]
  },
  {
   "cell_type": "code",
   "execution_count": 11,
   "metadata": {},
   "outputs": [
    {
     "name": "stderr",
     "output_type": "stream",
     "text": [
      "R[write to console]: Registered S3 methods overwritten by 'ggplot2':\n",
      "  method         from \n",
      "  [.quosures     rlang\n",
      "  c.quosures     rlang\n",
      "  print.quosures rlang\n",
      "\n"
     ]
    },
    {
     "data": {
      "text/plain": [
       "array(['scales', 'ggplot2', 'tools', 'stats', 'graphics', 'grDevices',\n",
       "       'utils', 'datasets', 'methods', 'base'], dtype='<U9')"
      ]
     },
     "execution_count": 11,
     "metadata": {},
     "output_type": "execute_result"
    }
   ],
   "source": [
    "%R library('ggplot2')\n",
    "%R library(scales)"
   ]
  },
  {
   "cell_type": "code",
   "execution_count": 14,
   "metadata": {},
   "outputs": [],
   "source": [
    "content = pd.read_sql('Select * from content',conn)"
   ]
  },
  {
   "cell_type": "code",
   "execution_count": 12,
   "metadata": {},
   "outputs": [],
   "source": [
    "reviews = pd.read_sql('Select * from reviews',conn)"
   ]
  },
  {
   "cell_type": "code",
   "execution_count": 16,
   "metadata": {},
   "outputs": [],
   "source": [
    "reviews = pd.merge(reviews,content,how='inner',on='reviewid')"
   ]
  },
  {
   "cell_type": "code",
   "execution_count": null,
   "metadata": {},
   "outputs": [],
   "source": [
    "analyzer = SentimentIntensityAnalyzer()"
   ]
  },
  {
   "cell_type": "code",
   "execution_count": 30,
   "metadata": {},
   "outputs": [],
   "source": [
    "sentiment_master_list = []\n",
    "for i,row in reviews.iterrows():\n",
    "    review_text = row['content']\n",
    "    sentiment = analyzer.polarity_scores(review_text)\n",
    "    sentiment_master_list.append([row['artist'],row['title'],sentiment['neg'],sentiment['neu'],sentiment['pos'],sentiment['compound']])"
   ]
  },
  {
   "cell_type": "code",
   "execution_count": 35,
   "metadata": {},
   "outputs": [],
   "source": [
    "sentiment_df = pd.DataFrame(sentiment_master_list,columns=['artist','title','neg','neu','pos','compound'])"
   ]
  },
  {
   "cell_type": "code",
   "execution_count": 36,
   "metadata": {},
   "outputs": [
    {
     "data": {
      "text/html": [
       "<div>\n",
       "<style scoped>\n",
       "    .dataframe tbody tr th:only-of-type {\n",
       "        vertical-align: middle;\n",
       "    }\n",
       "\n",
       "    .dataframe tbody tr th {\n",
       "        vertical-align: top;\n",
       "    }\n",
       "\n",
       "    .dataframe thead th {\n",
       "        text-align: right;\n",
       "    }\n",
       "</style>\n",
       "<table border=\"1\" class=\"dataframe\">\n",
       "  <thead>\n",
       "    <tr style=\"text-align: right;\">\n",
       "      <th></th>\n",
       "      <th>artist</th>\n",
       "      <th>title</th>\n",
       "      <th>neg</th>\n",
       "      <th>neu</th>\n",
       "      <th>pos</th>\n",
       "      <th>compound</th>\n",
       "    </tr>\n",
       "  </thead>\n",
       "  <tbody>\n",
       "    <tr>\n",
       "      <td>0</td>\n",
       "      <td>massive attack</td>\n",
       "      <td>mezzanine</td>\n",
       "      <td>0.101</td>\n",
       "      <td>0.800</td>\n",
       "      <td>0.098</td>\n",
       "      <td>-0.4302</td>\n",
       "    </tr>\n",
       "    <tr>\n",
       "      <td>1</td>\n",
       "      <td>krallice</td>\n",
       "      <td>prelapsarian</td>\n",
       "      <td>0.077</td>\n",
       "      <td>0.870</td>\n",
       "      <td>0.053</td>\n",
       "      <td>-0.8661</td>\n",
       "    </tr>\n",
       "    <tr>\n",
       "      <td>2</td>\n",
       "      <td>uranium club</td>\n",
       "      <td>all of them naturals</td>\n",
       "      <td>0.049</td>\n",
       "      <td>0.866</td>\n",
       "      <td>0.084</td>\n",
       "      <td>0.9504</td>\n",
       "    </tr>\n",
       "    <tr>\n",
       "      <td>3</td>\n",
       "      <td>kleenex, liliput</td>\n",
       "      <td>first songs</td>\n",
       "      <td>0.077</td>\n",
       "      <td>0.776</td>\n",
       "      <td>0.148</td>\n",
       "      <td>0.9987</td>\n",
       "    </tr>\n",
       "    <tr>\n",
       "      <td>4</td>\n",
       "      <td>taso</td>\n",
       "      <td>new start</td>\n",
       "      <td>0.012</td>\n",
       "      <td>0.862</td>\n",
       "      <td>0.127</td>\n",
       "      <td>0.9968</td>\n",
       "    </tr>\n",
       "    <tr>\n",
       "      <td>...</td>\n",
       "      <td>...</td>\n",
       "      <td>...</td>\n",
       "      <td>...</td>\n",
       "      <td>...</td>\n",
       "      <td>...</td>\n",
       "      <td>...</td>\n",
       "    </tr>\n",
       "    <tr>\n",
       "      <td>18396</td>\n",
       "      <td>coldcut</td>\n",
       "      <td>let us replay!</td>\n",
       "      <td>0.042</td>\n",
       "      <td>0.855</td>\n",
       "      <td>0.103</td>\n",
       "      <td>0.9799</td>\n",
       "    </tr>\n",
       "    <tr>\n",
       "      <td>18397</td>\n",
       "      <td>cassius</td>\n",
       "      <td>1999</td>\n",
       "      <td>0.033</td>\n",
       "      <td>0.760</td>\n",
       "      <td>0.207</td>\n",
       "      <td>0.9934</td>\n",
       "    </tr>\n",
       "    <tr>\n",
       "      <td>18398</td>\n",
       "      <td>mojave 3</td>\n",
       "      <td>out of tune</td>\n",
       "      <td>0.095</td>\n",
       "      <td>0.772</td>\n",
       "      <td>0.134</td>\n",
       "      <td>0.9901</td>\n",
       "    </tr>\n",
       "    <tr>\n",
       "      <td>18399</td>\n",
       "      <td>don caballero</td>\n",
       "      <td>singles breaking up, vol. 1</td>\n",
       "      <td>0.110</td>\n",
       "      <td>0.695</td>\n",
       "      <td>0.195</td>\n",
       "      <td>0.9924</td>\n",
       "    </tr>\n",
       "    <tr>\n",
       "      <td>18400</td>\n",
       "      <td>neil hamburger</td>\n",
       "      <td>left for dead in malaysia</td>\n",
       "      <td>0.166</td>\n",
       "      <td>0.711</td>\n",
       "      <td>0.124</td>\n",
       "      <td>-0.9593</td>\n",
       "    </tr>\n",
       "  </tbody>\n",
       "</table>\n",
       "<p>18401 rows × 6 columns</p>\n",
       "</div>"
      ],
      "text/plain": [
       "                 artist                        title    neg    neu    pos  \\\n",
       "0        massive attack                    mezzanine  0.101  0.800  0.098   \n",
       "1              krallice                 prelapsarian  0.077  0.870  0.053   \n",
       "2          uranium club         all of them naturals  0.049  0.866  0.084   \n",
       "3      kleenex, liliput                  first songs  0.077  0.776  0.148   \n",
       "4                  taso                    new start  0.012  0.862  0.127   \n",
       "...                 ...                          ...    ...    ...    ...   \n",
       "18396           coldcut               let us replay!  0.042  0.855  0.103   \n",
       "18397           cassius                         1999  0.033  0.760  0.207   \n",
       "18398          mojave 3                  out of tune  0.095  0.772  0.134   \n",
       "18399     don caballero  singles breaking up, vol. 1  0.110  0.695  0.195   \n",
       "18400    neil hamburger    left for dead in malaysia  0.166  0.711  0.124   \n",
       "\n",
       "       compound  \n",
       "0       -0.4302  \n",
       "1       -0.8661  \n",
       "2        0.9504  \n",
       "3        0.9987  \n",
       "4        0.9968  \n",
       "...         ...  \n",
       "18396    0.9799  \n",
       "18397    0.9934  \n",
       "18398    0.9901  \n",
       "18399    0.9924  \n",
       "18400   -0.9593  \n",
       "\n",
       "[18401 rows x 6 columns]"
      ]
     },
     "execution_count": 36,
     "metadata": {},
     "output_type": "execute_result"
    }
   ],
   "source": [
    "sentiment_df.to_csv('sentiment_scores.csv')"
   ]
  }
 ],
 "metadata": {
  "kernelspec": {
   "display_name": "Python 3",
   "language": "python",
   "name": "python3"
  },
  "language_info": {
   "codemirror_mode": {
    "name": "ipython",
    "version": 3
   },
   "file_extension": ".py",
   "mimetype": "text/x-python",
   "name": "python",
   "nbconvert_exporter": "python",
   "pygments_lexer": "ipython3",
   "version": "3.7.4"
  }
 },
 "nbformat": 4,
 "nbformat_minor": 4
}

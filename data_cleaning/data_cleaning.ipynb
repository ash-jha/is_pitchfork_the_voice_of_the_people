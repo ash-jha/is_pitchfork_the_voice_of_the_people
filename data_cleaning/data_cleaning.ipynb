{
 "cells": [
  {
   "cell_type": "code",
   "execution_count": 1,
   "metadata": {},
   "outputs": [],
   "source": [
    "import pandas as pd\n",
    "import numpy as np\n",
    "import os\n",
    "import sqlite3\n",
    "import textstat\n",
    "from vaderSentiment.vaderSentiment import SentimentIntensityAnalyzer\n",
    "%matplotlib inline"
   ]
  },
  {
   "cell_type": "code",
   "execution_count": 2,
   "metadata": {},
   "outputs": [],
   "source": [
    "conn = sqlite3.connect(os.path.join('..', 'raw_data','pitchfork.sqlite'))\n",
    "df_reviews = pd.read_sql('Select * from reviews',conn)\n",
    "df_content = pd.read_sql('Select * from content',conn)\n",
    "df_genres = pd.read_sql('Select * from genres', conn)"
   ]
  },
  {
   "cell_type": "markdown",
   "metadata": {},
   "source": [
    "### Clean up reviews data"
   ]
  },
  {
   "cell_type": "code",
   "execution_count": 3,
   "metadata": {},
   "outputs": [
    {
     "data": {
      "text/plain": [
       "9460     2\n",
       "9417     2\n",
       "9499     2\n",
       "9505     2\n",
       "2047     1\n",
       "        ..\n",
       "21792    1\n",
       "11551    1\n",
       "9502     1\n",
       "15645    1\n",
       "2049     1\n",
       "Name: reviewid, Length: 18389, dtype: int64"
      ]
     },
     "execution_count": 3,
     "metadata": {},
     "output_type": "execute_result"
    }
   ],
   "source": [
    "df_reviews.reviewid.value_counts()"
   ]
  },
  {
   "cell_type": "code",
   "execution_count": 4,
   "metadata": {},
   "outputs": [
    {
     "data": {
      "text/html": [
       "<div>\n",
       "<style scoped>\n",
       "    .dataframe tbody tr th:only-of-type {\n",
       "        vertical-align: middle;\n",
       "    }\n",
       "\n",
       "    .dataframe tbody tr th {\n",
       "        vertical-align: top;\n",
       "    }\n",
       "\n",
       "    .dataframe thead th {\n",
       "        text-align: right;\n",
       "    }\n",
       "</style>\n",
       "<table border=\"1\" class=\"dataframe\">\n",
       "  <thead>\n",
       "    <tr style=\"text-align: right;\">\n",
       "      <th></th>\n",
       "      <th>reviewid</th>\n",
       "      <th>title</th>\n",
       "      <th>artist</th>\n",
       "      <th>url</th>\n",
       "      <th>score</th>\n",
       "      <th>best_new_music</th>\n",
       "      <th>author</th>\n",
       "      <th>author_type</th>\n",
       "      <th>pub_date</th>\n",
       "      <th>pub_weekday</th>\n",
       "      <th>pub_day</th>\n",
       "      <th>pub_month</th>\n",
       "      <th>pub_year</th>\n",
       "    </tr>\n",
       "  </thead>\n",
       "  <tbody>\n",
       "    <tr>\n",
       "      <td>0</td>\n",
       "      <td>22703</td>\n",
       "      <td>mezzanine</td>\n",
       "      <td>massive attack</td>\n",
       "      <td>http://pitchfork.com/reviews/albums/22703-mezz...</td>\n",
       "      <td>9.3</td>\n",
       "      <td>0</td>\n",
       "      <td>nate patrin</td>\n",
       "      <td>contributor</td>\n",
       "      <td>2017-01-08</td>\n",
       "      <td>6</td>\n",
       "      <td>8</td>\n",
       "      <td>1</td>\n",
       "      <td>2017</td>\n",
       "    </tr>\n",
       "    <tr>\n",
       "      <td>1</td>\n",
       "      <td>22721</td>\n",
       "      <td>prelapsarian</td>\n",
       "      <td>krallice</td>\n",
       "      <td>http://pitchfork.com/reviews/albums/22721-prel...</td>\n",
       "      <td>7.9</td>\n",
       "      <td>0</td>\n",
       "      <td>zoe camp</td>\n",
       "      <td>contributor</td>\n",
       "      <td>2017-01-07</td>\n",
       "      <td>5</td>\n",
       "      <td>7</td>\n",
       "      <td>1</td>\n",
       "      <td>2017</td>\n",
       "    </tr>\n",
       "  </tbody>\n",
       "</table>\n",
       "</div>"
      ],
      "text/plain": [
       "   reviewid         title          artist  \\\n",
       "0     22703     mezzanine  massive attack   \n",
       "1     22721  prelapsarian        krallice   \n",
       "\n",
       "                                                 url  score  best_new_music  \\\n",
       "0  http://pitchfork.com/reviews/albums/22703-mezz...    9.3               0   \n",
       "1  http://pitchfork.com/reviews/albums/22721-prel...    7.9               0   \n",
       "\n",
       "        author  author_type    pub_date  pub_weekday  pub_day  pub_month  \\\n",
       "0  nate patrin  contributor  2017-01-08            6        8          1   \n",
       "1     zoe camp  contributor  2017-01-07            5        7          1   \n",
       "\n",
       "   pub_year  \n",
       "0      2017  \n",
       "1      2017  "
      ]
     },
     "execution_count": 4,
     "metadata": {},
     "output_type": "execute_result"
    }
   ],
   "source": [
    "df_reviews = df_reviews.drop_duplicates(subset=['reviewid']).reset_index(drop=True)\n",
    "df_reviews.head(2)"
   ]
  },
  {
   "cell_type": "markdown",
   "metadata": {},
   "source": [
    "### Clean up metacritic data"
   ]
  },
  {
   "cell_type": "code",
   "execution_count": 6,
   "metadata": {},
   "outputs": [
    {
     "data": {
      "text/html": [
       "<div>\n",
       "<style scoped>\n",
       "    .dataframe tbody tr th:only-of-type {\n",
       "        vertical-align: middle;\n",
       "    }\n",
       "\n",
       "    .dataframe tbody tr th {\n",
       "        vertical-align: top;\n",
       "    }\n",
       "\n",
       "    .dataframe thead th {\n",
       "        text-align: right;\n",
       "    }\n",
       "</style>\n",
       "<table border=\"1\" class=\"dataframe\">\n",
       "  <thead>\n",
       "    <tr style=\"text-align: right;\">\n",
       "      <th></th>\n",
       "      <th>artist</th>\n",
       "      <th>album</th>\n",
       "      <th>year</th>\n",
       "      <th>critic_score</th>\n",
       "      <th>user_score</th>\n",
       "      <th>comment</th>\n",
       "    </tr>\n",
       "  </thead>\n",
       "  <tbody>\n",
       "    <tr>\n",
       "      <td>0</td>\n",
       "      <td>melochrome</td>\n",
       "      <td>NaN</td>\n",
       "      <td>NaN</td>\n",
       "      <td>NaN</td>\n",
       "      <td>NaN</td>\n",
       "      <td>artist not found!</td>\n",
       "    </tr>\n",
       "    <tr>\n",
       "      <td>1</td>\n",
       "      <td>jets to brazil</td>\n",
       "      <td>NaN</td>\n",
       "      <td>NaN</td>\n",
       "      <td>NaN</td>\n",
       "      <td>NaN</td>\n",
       "      <td>artist not found!</td>\n",
       "    </tr>\n",
       "  </tbody>\n",
       "</table>\n",
       "</div>"
      ],
      "text/plain": [
       "           artist album year critic_score user_score            comment\n",
       "0      melochrome   NaN  NaN          NaN        NaN  artist not found!\n",
       "1  jets to brazil   NaN  NaN          NaN        NaN  artist not found!"
      ]
     },
     "execution_count": 6,
     "metadata": {},
     "output_type": "execute_result"
    }
   ],
   "source": [
    "df_m = pd.read_csv(os.path.join('..', 'raw_data','metacritic_complete.csv'))\n",
    "df_m.head(2)"
   ]
  },
  {
   "cell_type": "code",
   "execution_count": 7,
   "metadata": {},
   "outputs": [],
   "source": [
    "# drop nans and tbds\n",
    "idx_not_null = (~df_m['critic_score'].isna() & ~df_m['user_score'].isna())\n",
    "idx_not_tbd = (df_m['critic_score']!='tbd') & (df_m['user_score']!='tbd')\n",
    "df_m = df_m.loc[idx_not_null & idx_not_tbd]\n",
    "\n",
    "# convert to float\n",
    "df_m['critic_score'] = df_m['critic_score'].astype(np.float64)\n",
    "df_m['user_score'] = df_m['user_score'].astype(np.float64)"
   ]
  },
  {
   "cell_type": "code",
   "execution_count": 8,
   "metadata": {},
   "outputs": [
    {
     "data": {
      "text/html": [
       "<div>\n",
       "<style scoped>\n",
       "    .dataframe tbody tr th:only-of-type {\n",
       "        vertical-align: middle;\n",
       "    }\n",
       "\n",
       "    .dataframe tbody tr th {\n",
       "        vertical-align: top;\n",
       "    }\n",
       "\n",
       "    .dataframe thead th {\n",
       "        text-align: right;\n",
       "    }\n",
       "</style>\n",
       "<table border=\"1\" class=\"dataframe\">\n",
       "  <thead>\n",
       "    <tr style=\"text-align: right;\">\n",
       "      <th></th>\n",
       "      <th>artist</th>\n",
       "      <th>album</th>\n",
       "      <th>year</th>\n",
       "      <th>critic_score</th>\n",
       "      <th>user_score</th>\n",
       "      <th>comment</th>\n",
       "    </tr>\n",
       "  </thead>\n",
       "  <tbody>\n",
       "    <tr>\n",
       "      <td>14</td>\n",
       "      <td>the the</td>\n",
       "      <td>soul mining (30th anniversary deluxe edition) ...</td>\n",
       "      <td>Jul 1, 2014</td>\n",
       "      <td>92.0</td>\n",
       "      <td>8.1</td>\n",
       "      <td>NaN</td>\n",
       "    </tr>\n",
       "    <tr>\n",
       "      <td>15</td>\n",
       "      <td>the the</td>\n",
       "      <td>nakedself</td>\n",
       "      <td>Feb 29, 2000</td>\n",
       "      <td>75.0</td>\n",
       "      <td>7.4</td>\n",
       "      <td>NaN</td>\n",
       "    </tr>\n",
       "  </tbody>\n",
       "</table>\n",
       "</div>"
      ],
      "text/plain": [
       "     artist                                              album          year  \\\n",
       "14  the the  soul mining (30th anniversary deluxe edition) ...   Jul 1, 2014   \n",
       "15  the the                                          nakedself  Feb 29, 2000   \n",
       "\n",
       "    critic_score  user_score comment  \n",
       "14          92.0         8.1     NaN  \n",
       "15          75.0         7.4     NaN  "
      ]
     },
     "execution_count": 8,
     "metadata": {},
     "output_type": "execute_result"
    }
   ],
   "source": [
    "df_m.head(2)"
   ]
  },
  {
   "cell_type": "markdown",
   "metadata": {},
   "source": [
    "### Keep Pitchfork reviews that are only tied to one genre (so that we can easily use genre as a catgeorical var)"
   ]
  },
  {
   "cell_type": "code",
   "execution_count": 9,
   "metadata": {},
   "outputs": [
    {
     "data": {
      "text/plain": [
       "(12148, 3)"
      ]
     },
     "execution_count": 9,
     "metadata": {},
     "output_type": "execute_result"
    }
   ],
   "source": [
    "df_genres['count_of_genre'] = df_genres.groupby(['reviewid'])['genre'].transform('nunique')\n",
    "df_genres_1 = df_genres.loc[df_genres['count_of_genre']==1].copy()\n",
    "df_genres_1.shape"
   ]
  },
  {
   "cell_type": "code",
   "execution_count": 10,
   "metadata": {},
   "outputs": [
    {
     "data": {
      "text/plain": [
       "9417     2\n",
       "18431    1\n",
       "21808    1\n",
       "1338     1\n",
       "7481     1\n",
       "        ..\n",
       "12955    1\n",
       "15002    1\n",
       "8857     1\n",
       "21143    1\n",
       "16384    1\n",
       "Name: reviewid, Length: 12147, dtype: int64"
      ]
     },
     "execution_count": 10,
     "metadata": {},
     "output_type": "execute_result"
    }
   ],
   "source": [
    "df_genres_1.reviewid.value_counts()"
   ]
  },
  {
   "cell_type": "code",
   "execution_count": 11,
   "metadata": {},
   "outputs": [
    {
     "data": {
      "text/html": [
       "<div>\n",
       "<style scoped>\n",
       "    .dataframe tbody tr th:only-of-type {\n",
       "        vertical-align: middle;\n",
       "    }\n",
       "\n",
       "    .dataframe tbody tr th {\n",
       "        vertical-align: top;\n",
       "    }\n",
       "\n",
       "    .dataframe thead th {\n",
       "        text-align: right;\n",
       "    }\n",
       "</style>\n",
       "<table border=\"1\" class=\"dataframe\">\n",
       "  <thead>\n",
       "    <tr style=\"text-align: right;\">\n",
       "      <th></th>\n",
       "      <th>reviewid</th>\n",
       "      <th>genre</th>\n",
       "      <th>count_of_genre</th>\n",
       "    </tr>\n",
       "  </thead>\n",
       "  <tbody>\n",
       "    <tr>\n",
       "      <td>0</td>\n",
       "      <td>22703</td>\n",
       "      <td>electronic</td>\n",
       "      <td>1</td>\n",
       "    </tr>\n",
       "    <tr>\n",
       "      <td>1</td>\n",
       "      <td>22721</td>\n",
       "      <td>metal</td>\n",
       "      <td>1</td>\n",
       "    </tr>\n",
       "  </tbody>\n",
       "</table>\n",
       "</div>"
      ],
      "text/plain": [
       "   reviewid       genre  count_of_genre\n",
       "0     22703  electronic               1\n",
       "1     22721       metal               1"
      ]
     },
     "execution_count": 11,
     "metadata": {},
     "output_type": "execute_result"
    }
   ],
   "source": [
    "df_genres_1 = df_genres_1.drop_duplicates(subset=['reviewid']).reset_index(drop=True)\n",
    "df_genres_1.head(2)"
   ]
  },
  {
   "cell_type": "markdown",
   "metadata": {},
   "source": [
    "### Join pitchfork reviews with genre, and then with metacritic dataframe"
   ]
  },
  {
   "cell_type": "code",
   "execution_count": 12,
   "metadata": {},
   "outputs": [
    {
     "data": {
      "text/plain": [
       "(12147, 14)"
      ]
     },
     "execution_count": 12,
     "metadata": {},
     "output_type": "execute_result"
    }
   ],
   "source": [
    "df_p = pd.merge(df_reviews,\n",
    "                df_genres_1[['reviewid','genre']],\n",
    "                on='reviewid')\n",
    "df_p.shape"
   ]
  },
  {
   "cell_type": "code",
   "execution_count": 13,
   "metadata": {},
   "outputs": [],
   "source": [
    "assert(df_p.reviewid.value_counts()==1).all()"
   ]
  },
  {
   "cell_type": "code",
   "execution_count": 14,
   "metadata": {},
   "outputs": [
    {
     "data": {
      "text/html": [
       "<div>\n",
       "<style scoped>\n",
       "    .dataframe tbody tr th:only-of-type {\n",
       "        vertical-align: middle;\n",
       "    }\n",
       "\n",
       "    .dataframe tbody tr th {\n",
       "        vertical-align: top;\n",
       "    }\n",
       "\n",
       "    .dataframe thead th {\n",
       "        text-align: right;\n",
       "    }\n",
       "</style>\n",
       "<table border=\"1\" class=\"dataframe\">\n",
       "  <thead>\n",
       "    <tr style=\"text-align: right;\">\n",
       "      <th></th>\n",
       "      <th>reviewid</th>\n",
       "      <th>artist</th>\n",
       "      <th>url</th>\n",
       "      <th>p_score</th>\n",
       "      <th>best_new_music</th>\n",
       "      <th>author</th>\n",
       "      <th>author_type</th>\n",
       "      <th>pub_date</th>\n",
       "      <th>pub_weekday</th>\n",
       "      <th>pub_day</th>\n",
       "      <th>pub_month</th>\n",
       "      <th>pub_year</th>\n",
       "      <th>genre</th>\n",
       "      <th>album</th>\n",
       "      <th>year</th>\n",
       "      <th>m_critic_score</th>\n",
       "      <th>m_user_score</th>\n",
       "      <th>comment</th>\n",
       "    </tr>\n",
       "  </thead>\n",
       "  <tbody>\n",
       "    <tr>\n",
       "      <td>0</td>\n",
       "      <td>22704</td>\n",
       "      <td>little simz</td>\n",
       "      <td>http://pitchfork.com/reviews/albums/22704-litt...</td>\n",
       "      <td>7.1</td>\n",
       "      <td>0</td>\n",
       "      <td>katherine st. asaph</td>\n",
       "      <td>contributor</td>\n",
       "      <td>2017-01-05</td>\n",
       "      <td>3</td>\n",
       "      <td>5</td>\n",
       "      <td>1</td>\n",
       "      <td>2017</td>\n",
       "      <td>rap</td>\n",
       "      <td>stillness in wonderland</td>\n",
       "      <td>Dec 16, 2016</td>\n",
       "      <td>84.0</td>\n",
       "      <td>8.3</td>\n",
       "      <td>NaN</td>\n",
       "    </tr>\n",
       "    <tr>\n",
       "      <td>1</td>\n",
       "      <td>22714</td>\n",
       "      <td>brian eno</td>\n",
       "      <td>http://pitchfork.com/reviews/albums/22714-refl...</td>\n",
       "      <td>7.7</td>\n",
       "      <td>0</td>\n",
       "      <td>andy beta</td>\n",
       "      <td>contributor</td>\n",
       "      <td>2017-01-04</td>\n",
       "      <td>2</td>\n",
       "      <td>4</td>\n",
       "      <td>1</td>\n",
       "      <td>2017</td>\n",
       "      <td>experimental</td>\n",
       "      <td>reflection</td>\n",
       "      <td>Jan 1, 2017</td>\n",
       "      <td>75.0</td>\n",
       "      <td>7.6</td>\n",
       "      <td>NaN</td>\n",
       "    </tr>\n",
       "  </tbody>\n",
       "</table>\n",
       "</div>"
      ],
      "text/plain": [
       "   reviewid       artist                                                url  \\\n",
       "0     22704  little simz  http://pitchfork.com/reviews/albums/22704-litt...   \n",
       "1     22714    brian eno  http://pitchfork.com/reviews/albums/22714-refl...   \n",
       "\n",
       "   p_score  best_new_music               author  author_type    pub_date  \\\n",
       "0      7.1               0  katherine st. asaph  contributor  2017-01-05   \n",
       "1      7.7               0            andy beta  contributor  2017-01-04   \n",
       "\n",
       "   pub_weekday  pub_day  pub_month  pub_year         genre  \\\n",
       "0            3        5          1      2017           rap   \n",
       "1            2        4          1      2017  experimental   \n",
       "\n",
       "                     album          year  m_critic_score  m_user_score comment  \n",
       "0  stillness in wonderland  Dec 16, 2016            84.0           8.3     NaN  \n",
       "1               reflection   Jan 1, 2017            75.0           7.6     NaN  "
      ]
     },
     "execution_count": 14,
     "metadata": {},
     "output_type": "execute_result"
    }
   ],
   "source": [
    "df_joined = pd.merge(df_p,\n",
    "                     df_m,\n",
    "                     left_on=['artist','title'],\n",
    "                     right_on=['artist','album'])\n",
    "\n",
    "df_joined = df_joined.rename(columns={'score':'p_score',\n",
    "                                      'critic_score':'m_critic_score',\n",
    "                                      'user_score':'m_user_score'})\n",
    "\n",
    "df_joined = df_joined.drop(['title'],axis=1)\n",
    "\n",
    "df_joined.head(2)"
   ]
  },
  {
   "cell_type": "markdown",
   "metadata": {},
   "source": [
    "### Add readability score to review content"
   ]
  },
  {
   "cell_type": "code",
   "execution_count": 18,
   "metadata": {},
   "outputs": [
    {
     "name": "stdout",
     "output_type": "stream",
     "text": [
      "CPU times: user 1min 6s, sys: 391 ms, total: 1min 7s\n",
      "Wall time: 1min 8s\n"
     ]
    }
   ],
   "source": [
    "%%time\n",
    "df_content['reading_ease'] = df_content['content'].apply(lambda row: textstat.flesch_reading_ease(row))"
   ]
  },
  {
   "cell_type": "markdown",
   "metadata": {},
   "source": [
    "### Export"
   ]
  },
  {
   "cell_type": "code",
   "execution_count": 21,
   "metadata": {},
   "outputs": [],
   "source": [
    "df_m.to_csv(os.path.join('..','data','df_m.csv'),index=False)\n",
    "df_joined.to_csv(os.path.join('..','data','df_joined.csv'),index=False)\n",
    "df_reviews.to_csv(os.path.join('..','data','df_reviews.csv'),index=False)\n",
    "df_content.to_csv(os.path.join('..','data','df_content.csv'),index=False)\n",
    "df_genres.to_csv(os.path.join('..','data','df_genres.csv'),index=False)"
   ]
  }
 ],
 "metadata": {
  "kernelspec": {
   "display_name": "Python 3",
   "language": "python",
   "name": "python3"
  },
  "language_info": {
   "codemirror_mode": {
    "name": "ipython",
    "version": 3
   },
   "file_extension": ".py",
   "mimetype": "text/x-python",
   "name": "python",
   "nbconvert_exporter": "python",
   "pygments_lexer": "ipython3",
   "version": "3.7.3"
  }
 },
 "nbformat": 4,
 "nbformat_minor": 2
}
